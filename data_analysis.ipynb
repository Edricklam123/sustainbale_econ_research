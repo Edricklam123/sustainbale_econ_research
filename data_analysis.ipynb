{
 "cells": [
  {
   "cell_type": "code",
   "execution_count": 17,
   "metadata": {},
   "outputs": [
    {
     "name": "stdout",
     "output_type": "stream",
     "text": [
      "['df_exchange_info_master.xlsx', 'df_exchange_mapping.csv', 'df_ghg_ts_long_form.csv', 'df_ghg_ts_long_form_selected.csv', 'df_ghg_ts_master.csv', 'df_info_master.csv', 'df_power_ts_long_form.csv', 'df_power_ts_long_form_selected.csv', 'df_power_ts_master.csv', 'df_selected_comps.csv', 'hardcode_data.xlsx', '~$hardcode_data.xlsx']\n"
     ]
    }
   ],
   "source": [
    "# Import libraries\n",
    "import os\n",
    "from tqdm import tqdm\n",
    "import pandas as pd\n",
    "\n",
    "# Redirecting to the directory\n",
    "# os.chdir(os.path.join('.\\ECON4999X'))\n",
    "CLEANED_DATA_DIR = os.path.normpath(r'.\\Cleaned_Data')\n",
    "DA_DATA_DIR = os.path.normpath(r'.\\da_working_files')\n",
    "print(os.listdir(CLEANED_DATA_DIR))"
   ]
  },
  {
   "attachments": {},
   "cell_type": "markdown",
   "metadata": {},
   "source": [
    "### Does higher carbon price reduce firms’ carbon emissions?\n",
    "#### Emission Analysis"
   ]
  },
  {
   "cell_type": "code",
   "execution_count": 14,
   "metadata": {},
   "outputs": [],
   "source": [
    "# Reading dataframe\n",
    "df_ghg = pd.read_csv(os.path.join(CLEANED_DATA_DIR, 'df_ghg_ts_long_form_selected.csv'))\n",
    "df_ghg.head()\n",
    "\n",
    "# We want to make a dataframe that only contains entity with long enough history\n",
    "entity_history_requirement = 15\n",
    "df_ghg_long_hist_comps = df_ghg.groupby('entity_id').filter(lambda x: len(x['year']) >= entity_history_requirement)"
   ]
  },
  {
   "cell_type": "code",
   "execution_count": 20,
   "metadata": {},
   "outputs": [],
   "source": [
    "# Create a column called the total carbon emission\n",
    "df_ghg_long_hist_comps['total_carbon_emission'] = df_ghg_long_hist_comps[['absolute_ghg_scope_1', 'absolute_ghg_scope_2']].sum(axis=1)"
   ]
  },
  {
   "cell_type": "code",
   "execution_count": 24,
   "metadata": {},
   "outputs": [],
   "source": [
    "file_name = 'df_ghg_ts_long_form_selected_long_hist.csv'\n",
    "df_ghg_long_hist_comps.to_csv(os.path.join(DA_DATA_DIR, file_name), index=False)"
   ]
  },
  {
   "cell_type": "markdown",
   "metadata": {},
   "source": [
    "### How firms reduce the carbon emissions, by developing in-house green technology or cutting their output?"
   ]
  },
  {
   "cell_type": "code",
   "execution_count": null,
   "metadata": {},
   "outputs": [],
   "source": []
  }
 ],
 "metadata": {
  "kernelspec": {
   "display_name": "venv",
   "language": "python",
   "name": "python3"
  },
  "language_info": {
   "codemirror_mode": {
    "name": "ipython",
    "version": 3
   },
   "file_extension": ".py",
   "mimetype": "text/x-python",
   "name": "python",
   "nbconvert_exporter": "python",
   "pygments_lexer": "ipython3",
   "version": "3.10.5"
  },
  "orig_nbformat": 4
 },
 "nbformat": 4,
 "nbformat_minor": 2
}
